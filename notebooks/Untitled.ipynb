{
 "cells": [
  {
   "cell_type": "code",
   "execution_count": null,
   "metadata": {},
   "outputs": [],
   "source": []
  },
  {
   "cell_type": "code",
   "execution_count": 1,
   "metadata": {},
   "outputs": [],
   "source": [
    "import numpy as np\n",
    "import pandas as pd\n",
    "import networkx as nx\n",
    "import matplotlib.pyplot as plt\n",
    "\n",
    "import community\n",
    "import warnings\n",
    "\n",
    "import matplotlib.cbook\n",
    "\n",
    "warnings.filterwarnings('ignore', category=matplotlib.cbook.mplDeprecation)"
   ]
  },
  {
   "cell_type": "code",
   "execution_count": 1,
   "metadata": {},
   "outputs": [
    {
     "ename": "NameError",
     "evalue": "name 'np' is not defined",
     "output_type": "error",
     "traceback": [
      "\u001b[0;31m---------------------------------------------------------------------------\u001b[0m",
      "\u001b[0;31mNameError\u001b[0m                                 Traceback (most recent call last)",
      "\u001b[0;32m<ipython-input-1-da9babc5d06b>\u001b[0m in \u001b[0;36m<module>\u001b[0;34m\u001b[0m\n\u001b[1;32m     11\u001b[0m     \u001b[0;34m[\u001b[0m\u001b[0;36m0\u001b[0m\u001b[0;34m,\u001b[0m \u001b[0;36m0\u001b[0m\u001b[0;34m,\u001b[0m \u001b[0;36m0\u001b[0m\u001b[0;34m,\u001b[0m \u001b[0;36m0\u001b[0m\u001b[0;34m,\u001b[0m \u001b[0;36m0\u001b[0m\u001b[0;34m,\u001b[0m \u001b[0;36m0\u001b[0m\u001b[0;34m,\u001b[0m \u001b[0;36m0\u001b[0m\u001b[0;34m,\u001b[0m \u001b[0;36m3\u001b[0m\u001b[0;34m,\u001b[0m \u001b[0;36m1\u001b[0m\u001b[0;34m,\u001b[0m \u001b[0;36m0\u001b[0m\u001b[0;34m]\u001b[0m\u001b[0;34m\u001b[0m\u001b[0;34m\u001b[0m\u001b[0m\n\u001b[1;32m     12\u001b[0m ]\n\u001b[0;32m---> 13\u001b[0;31m \u001b[0madjMatrix\u001b[0m \u001b[0;34m=\u001b[0m \u001b[0mnp\u001b[0m\u001b[0;34m.\u001b[0m\u001b[0marray\u001b[0m\u001b[0;34m(\u001b[0m\u001b[0madjMatrix\u001b[0m\u001b[0;34m)\u001b[0m\u001b[0;34m\u001b[0m\u001b[0;34m\u001b[0m\u001b[0m\n\u001b[0m\u001b[1;32m     14\u001b[0m \u001b[0;34m\u001b[0m\u001b[0m\n\u001b[1;32m     15\u001b[0m \u001b[0mG\u001b[0m \u001b[0;34m=\u001b[0m \u001b[0mnx\u001b[0m\u001b[0;34m.\u001b[0m\u001b[0mGraph\u001b[0m\u001b[0;34m(\u001b[0m\u001b[0;34m)\u001b[0m\u001b[0;34m\u001b[0m\u001b[0;34m\u001b[0m\u001b[0m\n",
      "\u001b[0;31mNameError\u001b[0m: name 'np' is not defined"
     ]
    }
   ],
   "source": [
    "adjMatrix = [\n",
    "    [0, 1, 3, 0, 0, 0, 0, 0, 0, 0], \n",
    "    [1, 0, 2, 0, 0, 0, 0, 0, 0, 0], \n",
    "    [3, 2, 0, 1, 0, 0, 0, 0, 0, 0], \n",
    "    [0, 0, 1, 0, 1, 0, 0, 1, 0, 0], \n",
    "    [0, 0, 0, 1, 0, 3, 2, 0, 0, 0], \n",
    "    [0, 0, 0, 0, 3, 0, 1, 0, 0, 0], \n",
    "    [0, 0, 0, 0, 2, 1, 0, 0, 0, 0], \n",
    "    [0, 0, 0, 1, 0, 0, 0, 0, 2, 3], \n",
    "    [0, 0, 0, 0, 0, 0, 0, 2, 0, 1], \n",
    "    [0, 0, 0, 0, 0, 0, 0, 3, 1, 0]\n",
    "]\n",
    "adjMatrix = np.array(adjMatrix)\n",
    "\n",
    "G = nx.Graph()\n",
    "\n",
    "rows, cols = np.where(adjMatrix == 1)\n",
    "edges = zip(rows, cols)\n",
    "G.add_edges_from(edges)\n",
    "\n",
    "partition = community.best_partition(G)\n",
    "\n",
    "from p20191_paa_sem1.graph import reverseDict\n",
    "from p20191_paa_sem1.graph_draw import drawGraphWithCommunities\n",
    "drawGraphWithCommunities(G, reverseDict(partition))"
   ]
  },
  {
   "cell_type": "code",
   "execution_count": null,
   "metadata": {},
   "outputs": [],
   "source": []
  }
 ],
 "metadata": {
  "kernelspec": {
   "display_name": "Python 3",
   "language": "python",
   "name": "python3"
  },
  "language_info": {
   "codemirror_mode": {
    "name": "ipython",
    "version": 3
   },
   "file_extension": ".py",
   "mimetype": "text/x-python",
   "name": "python",
   "nbconvert_exporter": "python",
   "pygments_lexer": "ipython3",
   "version": "3.7.3"
  }
 },
 "nbformat": 4,
 "nbformat_minor": 2
}
